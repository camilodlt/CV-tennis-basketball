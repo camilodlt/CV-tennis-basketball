{
 "metadata": {
  "language_info": {
   "codemirror_mode": {
    "name": "ipython",
    "version": 3
   },
   "file_extension": ".py",
   "mimetype": "text/x-python",
   "name": "python",
   "nbconvert_exporter": "python",
   "pygments_lexer": "ipython3",
   "version": "3.8.2"
  },
  "orig_nbformat": 2,
  "kernelspec": {
   "name": "python3810jvsc74a57bd07bb15005995bd5aa55a64225e036e1d6cf53936085e2982588fee9efc561188f",
   "display_name": "Python 3.8.10 64-bit ('Fastai': conda)"
  },
  "metadata": {
   "interpreter": {
    "hash": "7bb15005995bd5aa55a64225e036e1d6cf53936085e2982588fee9efc561188f"
   }
  }
 },
 "nbformat": 4,
 "nbformat_minor": 2,
 "cells": [
  {
   "cell_type": "code",
   "execution_count": 182,
   "metadata": {},
   "outputs": [],
   "source": [
    "################################################\n",
    "#                Bing image API                 #\n",
    "################################################\n"
   ]
  },
  {
   "cell_type": "code",
   "execution_count": 183,
   "metadata": {},
   "outputs": [],
   "source": [
    "# HYPERPARAMS ------\n",
    "# Themes to download --- \n",
    "theme_0= \"tennis ball\"\n",
    "theme_1= \"basketball ball\"\n",
    "theme_2= \"\"\n",
    "theme_3= \"\"\n",
    "theme_4= \"\"\n",
    "theme_5= \"\"\n",
    "theme_6= \"\"\n",
    "theme_7= \"\"\n",
    "theme_8= \"\"\n",
    "theme_9= \"\"\n",
    "# Photos per theme ---\n",
    "n_per_theme= 150 # must be less than 150\n",
    "\n",
    "# Overall theme for dir ---\n",
    "overall_theme= \"balls\"\n"
   ]
  },
  {
   "cell_type": "code",
   "execution_count": 184,
   "metadata": {},
   "outputs": [],
   "source": [
    "param_themes=[theme_0,theme_1,theme_2,theme_3,theme_4,theme_5,theme_6,theme_7,theme_8,theme_9]"
   ]
  },
  {
   "cell_type": "code",
   "execution_count": 185,
   "metadata": {},
   "outputs": [],
   "source": [
    "# MODULES ------\n",
    "from fastbook import search_images_bing\n",
    "from fastbook import download_url\n",
    "from fastbook import verify_images\n",
    "from fastbook import Path\n",
    "from fastbook import get_image_files\n",
    "import os\n",
    "import re\n",
    "os.chdir(\"/home/camilo/Documents/Own Projects/MISC/Bing_images/\")"
   ]
  },
  {
   "cell_type": "code",
   "execution_count": 186,
   "metadata": {},
   "outputs": [],
   "source": [
    "# KEYS ------\n",
    "key_azure=open(\"key.txt\")\n",
    "extracted_key=key_azure.readlines()[0]\n",
    "extracted_key=extracted_key.replace(\"\\n\",\"\")\n"
   ]
  },
  {
   "cell_type": "code",
   "execution_count": 187,
   "metadata": {},
   "outputs": [
    {
     "output_type": "stream",
     "name": "stdout",
     "text": [
      "Themes to be downloaded\n"
     ]
    },
    {
     "output_type": "execute_result",
     "data": {
      "text/plain": [
       "['tennis ball', 'basketball ball']"
      ]
     },
     "metadata": {},
     "execution_count": 187
    }
   ],
   "source": [
    "# THEMES ------\n",
    "    # Up to 10 \n",
    "themes = [\"\"]*10\n",
    "\n",
    "def add_themes_to_list(list,param_themes):\n",
    "    for i,theme in enumerate(param_themes):\n",
    "        if(theme!=\"\"):\n",
    "            list[i]= theme\n",
    "def is_empty_string(item):\n",
    "    if(isinstance(item,str) and item!=\"\"):\n",
    "        return True\n",
    "# Add themes to list\n",
    "add_themes_to_list(themes, param_themes)\n",
    "# Remove empty items \n",
    "# Ensure items are str and non empty \n",
    "themes= list(filter(is_empty_string, themes))\n",
    "\n",
    "# Print\n",
    "print(\"Themes to be downloaded\")  \n",
    "themes"
   ]
  },
  {
   "cell_type": "code",
   "execution_count": 188,
   "metadata": {},
   "outputs": [],
   "source": [
    "# GET URLS ------\n",
    "photos_urls= []\n",
    "for i,theme in enumerate(themes):\n",
    "    photos_urls.append(search_images_bing(extracted_key,theme,max_images=n_per_theme))"
   ]
  },
  {
   "cell_type": "code",
   "execution_count": 189,
   "metadata": {},
   "outputs": [],
   "source": [
    "# DOWNLOAD PHOTOS + MAKE FOLDERS ------\n",
    "def fetch_photos(overall_theme, photos):\n",
    "    # make a global folder\n",
    "    os.mkdir(overall_theme)\n",
    "    # get the theme \n",
    "    for i, batch in enumerate(photos_urls):\n",
    "        second_path = overall_theme + \"/\" + themes[i]\n",
    "        os.mkdir(second_path) # ex balls/ tennis ball\n",
    "        for ith, photo in enumerate(batch): \n",
    "            url = photo[\"contentUrl\"]\n",
    "            third_path= second_path + \"/\" + themes[i]+\"_\"+ str(ith)+ \".jpg\" # ex balls/tennis ball/tennis ball_1.jpg\n",
    "            if(url!= \"\"):\n",
    "                download_url(url,third_path,show_progress=False)\n",
    "\n",
    "fetch_photos(overall_theme, photos_urls)"
   ]
  },
  {
   "cell_type": "code",
   "execution_count": 190,
   "metadata": {},
   "outputs": [
    {
     "output_type": "stream",
     "name": "stderr",
     "text": [
      "/home/camilo/anaconda3/envs/Fastai/lib/python3.8/site-packages/PIL/Image.py:2966: UserWarning: image file could not be identified because WEBP support not installed\n",
      "  warnings.warn(message)\n",
      "/home/camilo/anaconda3/envs/Fastai/lib/python3.8/site-packages/PIL/Image.py:2966: UserWarning: image file could not be identified because WEBP support not installed\n",
      "  warnings.warn(message)\n",
      "/home/camilo/anaconda3/envs/Fastai/lib/python3.8/site-packages/PIL/Image.py:2966: UserWarning: image file could not be identified because WEBP support not installed\n",
      "  warnings.warn(message)\n"
     ]
    },
    {
     "output_type": "execute_result",
     "data": {
      "text/plain": [
       "(#4) [None,None,None,None]"
      ]
     },
     "metadata": {},
     "execution_count": 190
    }
   ],
   "source": [
    "# VERIFY IMAGES ------\n",
    "# get all images paths \n",
    "get_paths= get_image_files(overall_theme)\n",
    "im_verification= verify_images(get_paths)\n",
    "im_verification.map(Path.unlink) # drop failing images "
   ]
  },
  {
   "cell_type": "code",
   "execution_count": 191,
   "metadata": {},
   "outputs": [
    {
     "output_type": "stream",
     "name": "stdout",
     "text": [
      "Number of subfolders: 2\nNumber of photos in total: 296\n---basketball ball---\nNumber of photos in directory: 149\n---tennis ball---\nNumber of photos in directory: 147\n"
     ]
    }
   ],
   "source": [
    "# Print some information \n",
    "get_paths= get_image_files(overall_theme)\n",
    "Number_of_subf= os.listdir(overall_theme)\n",
    "print(\"Number of subfolders: {sub}\".format(sub= len(Number_of_subf)))\n",
    "print(\"Number of photos in total: {L}\".format(L= len(get_paths)))\n",
    "\n",
    "for dir in  Number_of_subf:\n",
    "    l =[]\n",
    "    l.append(os.listdir(overall_theme+\"/\"+dir))\n",
    "    Number_of_photos= len(l[0])\n",
    "    print(\"---\"+dir+\"---\")\n",
    "    print(\"Number of photos in directory: {sub}\".format(sub=Number_of_photos))\n",
    "\n"
   ]
  }
 ]
}
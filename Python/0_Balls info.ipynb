{
 "metadata": {
  "language_info": {
   "codemirror_mode": {
    "name": "ipython",
    "version": 3
   },
   "file_extension": ".py",
   "mimetype": "text/x-python",
   "name": "python",
   "nbconvert_exporter": "python",
   "pygments_lexer": "ipython3",
   "version": "3.8.2"
  },
  "orig_nbformat": 2,
  "kernelspec": {
   "name": "python3810jvsc74a57bd07bb15005995bd5aa55a64225e036e1d6cf53936085e2982588fee9efc561188f",
   "display_name": "Python 3.8.10 64-bit ('Fastai': conda)"
  },
  "metadata": {
   "interpreter": {
    "hash": "7bb15005995bd5aa55a64225e036e1d6cf53936085e2982588fee9efc561188f"
   }
  }
 },
 "nbformat": 4,
 "nbformat_minor": 2,
 "cells": [
  {
   "cell_type": "code",
   "execution_count": 7,
   "metadata": {},
   "outputs": [],
   "source": [
    "################################################\n",
    "#               Curated balls info              #\n",
    "################################################"
   ]
  },
  {
   "cell_type": "code",
   "execution_count": 4,
   "metadata": {},
   "outputs": [
    {
     "output_type": "stream",
     "name": "stdout",
     "text": [
      "Number of subfolders: 2\nNumber of photos in total: 248\n---basketball ball---\nNumber of photos in directory: 130\n---tennis ball---\nNumber of photos in directory: 118\n"
     ]
    }
   ],
   "source": [
    "from fastbook import get_image_files\n",
    "import os\n",
    "\n",
    "# wd \n",
    "os.chdir(\"/home/camilo/Documents/Own Projects/MISC/Bing_images/\")\n",
    "# Overall theme for dir ---\n",
    "overall_theme= \"curated balls\"\n",
    "\n",
    "# Print some information \n",
    "get_paths= get_image_files(overall_theme)\n",
    "Number_of_subf= os.listdir(overall_theme)\n",
    "print(\"Number of subfolders: {sub}\".format(sub= len(Number_of_subf)))\n",
    "print(\"Number of photos in total: {L}\".format(L= len(get_paths)))\n",
    "\n",
    "for dir in  Number_of_subf:\n",
    "    l =[]\n",
    "    l.append(os.listdir(overall_theme+\"/\"+dir))\n",
    "    Number_of_photos= len(l[0])\n",
    "    print(\"---\"+dir+\"---\")\n",
    "    print(\"Number of photos in directory: {sub}\".format(sub=Number_of_photos))\n",
    "\n"
   ]
  }
 ]
}